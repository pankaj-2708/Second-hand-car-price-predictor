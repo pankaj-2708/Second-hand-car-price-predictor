{
 "cells": [
  {
   "cell_type": "code",
   "execution_count": 456,
   "id": "b6532b34-4f2a-4481-ab90-4770d5a3d023",
   "metadata": {},
   "outputs": [],
   "source": [
    "import pandas as pd\n",
    "import numpy as np\n",
    "import matplotlib.pyplot as plt\n",
    "import seaborn as sns\n",
    "from tqdm import tqdm\n",
    "tqdm.pandas()"
   ]
  },
  {
   "cell_type": "code",
   "execution_count": 538,
   "id": "070da231-d997-4fc9-8a12-2f7ca8f346dc",
   "metadata": {},
   "outputs": [],
   "source": [
    "df=pd.read_csv('../data/raw/car_details.csv')"
   ]
  },
  {
   "cell_type": "code",
   "execution_count": 458,
   "id": "1fd21c49-a4b7-4180-a742-caf7ce6851a6",
   "metadata": {},
   "outputs": [
    {
     "data": {
      "text/html": [
       "<div>\n",
       "<style scoped>\n",
       "    .dataframe tbody tr th:only-of-type {\n",
       "        vertical-align: middle;\n",
       "    }\n",
       "\n",
       "    .dataframe tbody tr th {\n",
       "        vertical-align: top;\n",
       "    }\n",
       "\n",
       "    .dataframe thead th {\n",
       "        text-align: right;\n",
       "    }\n",
       "</style>\n",
       "<table border=\"1\" class=\"dataframe\">\n",
       "  <thead>\n",
       "    <tr style=\"text-align: right;\">\n",
       "      <th></th>\n",
       "      <th>vehical_name</th>\n",
       "      <th>Registration Year</th>\n",
       "      <th>Insurance</th>\n",
       "      <th>Fuel Type</th>\n",
       "      <th>Seats</th>\n",
       "      <th>Kms Driven</th>\n",
       "      <th>RTO</th>\n",
       "      <th>Ownership</th>\n",
       "      <th>Engine Displacement</th>\n",
       "      <th>Transmission</th>\n",
       "      <th>Year of Manufacture</th>\n",
       "      <th>Engine</th>\n",
       "      <th>Power</th>\n",
       "      <th>Transmission .1</th>\n",
       "      <th>Drive Type</th>\n",
       "      <th>Mileage</th>\n",
       "      <th>Fuel</th>\n",
       "      <th>new_vehical_price</th>\n",
       "      <th>vehical_price</th>\n",
       "      <th>other_features</th>\n",
       "    </tr>\n",
       "  </thead>\n",
       "  <tbody>\n",
       "    <tr>\n",
       "      <th>7615</th>\n",
       "      <td>2020 Tata Altroz XZ BSVI</td>\n",
       "      <td>2020</td>\n",
       "      <td>-</td>\n",
       "      <td>Petrol</td>\n",
       "      <td>5 Seats</td>\n",
       "      <td>30,000 Kms</td>\n",
       "      <td>Secunderabad</td>\n",
       "      <td>First Owner</td>\n",
       "      <td>1199 cc</td>\n",
       "      <td>Manual</td>\n",
       "      <td>2020.0</td>\n",
       "      <td>1199 cc</td>\n",
       "      <td>86.83 bhp</td>\n",
       "      <td>Manual</td>\n",
       "      <td>NaN</td>\n",
       "      <td>19.33 kmpl</td>\n",
       "      <td>Petrol</td>\n",
       "      <td>New Car Price ₹8.88 Lakh</td>\n",
       "      <td>₹8.50 Lakh</td>\n",
       "      <td>['Engine Start/Stop Button', 'Rear AC Vents', ...</td>\n",
       "    </tr>\n",
       "    <tr>\n",
       "      <th>3889</th>\n",
       "      <td>2013 Mahindra XUV500 W4</td>\n",
       "      <td>2013</td>\n",
       "      <td>-</td>\n",
       "      <td>Diesel</td>\n",
       "      <td>7 Seats</td>\n",
       "      <td>60,000 Kms</td>\n",
       "      <td>Dibrugarh</td>\n",
       "      <td>Second Owner</td>\n",
       "      <td>2179 cc</td>\n",
       "      <td>Manual</td>\n",
       "      <td>2013.0</td>\n",
       "      <td>2179 cc</td>\n",
       "      <td>140 bhp</td>\n",
       "      <td>Manual</td>\n",
       "      <td>FWD</td>\n",
       "      <td>15.1 kmpl</td>\n",
       "      <td>Diesel</td>\n",
       "      <td>New Car Price ₹13.15 Lakh</td>\n",
       "      <td>₹4.75 Lakh</td>\n",
       "      <td>['Rear AC Vents']</td>\n",
       "    </tr>\n",
       "    <tr>\n",
       "      <th>6319</th>\n",
       "      <td>2024 Hyundai Verna SX Turbo DCT</td>\n",
       "      <td>2024</td>\n",
       "      <td>-</td>\n",
       "      <td>Petrol</td>\n",
       "      <td>5 Seats</td>\n",
       "      <td>10,000 Kms</td>\n",
       "      <td>TG08</td>\n",
       "      <td>First Owner</td>\n",
       "      <td>1482 cc</td>\n",
       "      <td>Automatic</td>\n",
       "      <td>2024.0</td>\n",
       "      <td>NaN</td>\n",
       "      <td>NaN</td>\n",
       "      <td>Automatic</td>\n",
       "      <td>NaN</td>\n",
       "      <td>NaN</td>\n",
       "      <td>NaN</td>\n",
       "      <td>New Car Price ₹19.94 Lakh</td>\n",
       "      <td>₹17.50 Lakh</td>\n",
       "      <td>[]</td>\n",
       "    </tr>\n",
       "    <tr>\n",
       "      <th>2205</th>\n",
       "      <td>2017 Maruti Swift Dzire LDI</td>\n",
       "      <td>2017</td>\n",
       "      <td>-</td>\n",
       "      <td>Diesel</td>\n",
       "      <td>5 Seats</td>\n",
       "      <td>63,000 Kms</td>\n",
       "      <td>begusarai</td>\n",
       "      <td>Second Owner</td>\n",
       "      <td>1248 cc</td>\n",
       "      <td>Manual</td>\n",
       "      <td>2017.0</td>\n",
       "      <td>1248 cc</td>\n",
       "      <td>74 bhp</td>\n",
       "      <td>Manual</td>\n",
       "      <td>NaN</td>\n",
       "      <td>26.59 kmpl</td>\n",
       "      <td>Diesel</td>\n",
       "      <td>New Car Price ₹7.89 Lakh</td>\n",
       "      <td>₹4 Lakh</td>\n",
       "      <td>[]</td>\n",
       "    </tr>\n",
       "    <tr>\n",
       "      <th>599</th>\n",
       "      <td>2017 Honda Jazz 1.2 E i VTEC</td>\n",
       "      <td>Jun 2017</td>\n",
       "      <td>Comprehensive</td>\n",
       "      <td>Petrol</td>\n",
       "      <td>5 Seats</td>\n",
       "      <td>70,000 Kms</td>\n",
       "      <td>Surat</td>\n",
       "      <td>First Owner</td>\n",
       "      <td>1199 cc</td>\n",
       "      <td>Manual</td>\n",
       "      <td>2017.0</td>\n",
       "      <td>NaN</td>\n",
       "      <td>NaN</td>\n",
       "      <td>Manual</td>\n",
       "      <td>NaN</td>\n",
       "      <td>NaN</td>\n",
       "      <td>NaN</td>\n",
       "      <td>New Car Price ₹6.74 Lakh</td>\n",
       "      <td>₹5.41 Lakh Make Your Offer</td>\n",
       "      <td>[]</td>\n",
       "    </tr>\n",
       "  </tbody>\n",
       "</table>\n",
       "</div>"
      ],
      "text/plain": [
       "                         vehical_name Registration Year      Insurance   \\\n",
       "7615         2020 Tata Altroz XZ BSVI               2020              -   \n",
       "3889          2013 Mahindra XUV500 W4               2013              -   \n",
       "6319  2024 Hyundai Verna SX Turbo DCT               2024              -   \n",
       "2205      2017 Maruti Swift Dzire LDI               2017              -   \n",
       "599      2017 Honda Jazz 1.2 E i VTEC           Jun 2017  Comprehensive   \n",
       "\n",
       "     Fuel Type    Seats  Kms Driven           RTO     Ownership   \\\n",
       "7615     Petrol  5 Seats  30,000 Kms  Secunderabad   First Owner   \n",
       "3889     Diesel  7 Seats  60,000 Kms     Dibrugarh  Second Owner   \n",
       "6319     Petrol  5 Seats  10,000 Kms          TG08   First Owner   \n",
       "2205     Diesel  5 Seats  63,000 Kms     begusarai  Second Owner   \n",
       "599      Petrol  5 Seats  70,000 Kms         Surat   First Owner   \n",
       "\n",
       "     Engine Displacement  Transmission   Year of Manufacture   Engine   \\\n",
       "7615              1199 cc        Manual                2020.0  1199 cc   \n",
       "3889              2179 cc        Manual                2013.0  2179 cc   \n",
       "6319              1482 cc     Automatic                2024.0      NaN   \n",
       "2205              1248 cc        Manual                2017.0  1248 cc   \n",
       "599               1199 cc        Manual                2017.0      NaN   \n",
       "\n",
       "         Power  Transmission .1 Drive Type     Mileage    Fuel   \\\n",
       "7615  86.83 bhp          Manual         NaN  19.33 kmpl  Petrol   \n",
       "3889    140 bhp          Manual         FWD   15.1 kmpl  Diesel   \n",
       "6319        NaN       Automatic         NaN         NaN     NaN   \n",
       "2205     74 bhp          Manual         NaN  26.59 kmpl  Diesel   \n",
       "599         NaN          Manual         NaN         NaN     NaN   \n",
       "\n",
       "              new_vehical_price               vehical_price  \\\n",
       "7615   New Car Price ₹8.88 Lakh                 ₹8.50 Lakh    \n",
       "3889  New Car Price ₹13.15 Lakh                 ₹4.75 Lakh    \n",
       "6319  New Car Price ₹19.94 Lakh                ₹17.50 Lakh    \n",
       "2205   New Car Price ₹7.89 Lakh                    ₹4 Lakh    \n",
       "599    New Car Price ₹6.74 Lakh  ₹5.41 Lakh Make Your Offer   \n",
       "\n",
       "                                         other_features  \n",
       "7615  ['Engine Start/Stop Button', 'Rear AC Vents', ...  \n",
       "3889                                  ['Rear AC Vents']  \n",
       "6319                                                 []  \n",
       "2205                                                 []  \n",
       "599                                                  []  "
      ]
     },
     "execution_count": 458,
     "metadata": {},
     "output_type": "execute_result"
    }
   ],
   "source": [
    "df.sample(5)"
   ]
  },
  {
   "cell_type": "code",
   "execution_count": 459,
   "id": "ad68f4ae-d600-44a4-b44d-ae1910371883",
   "metadata": {
    "scrolled": true
   },
   "outputs": [
    {
     "data": {
      "text/plain": [
       "vehical_name             0.000000\n",
       "Registration Year        0.254304\n",
       "Insurance                0.000000\n",
       "Fuel Type                0.000000\n",
       "Seats                    0.117371\n",
       "Kms Driven               0.000000\n",
       "RTO                      6.523865\n",
       "Ownership                0.029343\n",
       "Engine Displacement      0.841158\n",
       "Transmission             0.000000\n",
       "Year of Manufacture      0.224961\n",
       "Engine                  28.198357\n",
       "Power                   30.575117\n",
       "Transmission .1          0.000000\n",
       "Drive Type              78.022300\n",
       "Mileage                 33.401800\n",
       "Fuel                    39.749609\n",
       "new_vehical_price        0.000000\n",
       "vehical_price            0.000000\n",
       "other_features           0.000000\n",
       "dtype: float64"
      ]
     },
     "execution_count": 459,
     "metadata": {},
     "output_type": "execute_result"
    }
   ],
   "source": [
    "df.isnull().mean()*100"
   ]
  },
  {
   "cell_type": "markdown",
   "id": "c09763d8-4dbb-4d12-be91-e97893498544",
   "metadata": {
    "jp-MarkdownHeadingCollapsed": true
   },
   "source": [
    "# Vehical name and Registration year handling"
   ]
  },
  {
   "cell_type": "code",
   "execution_count": 460,
   "id": "3d2e4d8b-8b3a-4cfb-8cf0-33935460e642",
   "metadata": {},
   "outputs": [],
   "source": [
    "# Vehical name is made of three things 1st- registration year 2nd- company name 3rd- model name\n",
    "# registration name is already present as a col so i will create two new columns for the rest of things\n",
    "# registration year contain some null values we will try to figure it out using vehical name"
   ]
  },
  {
   "cell_type": "code",
   "execution_count": 461,
   "id": "cb7d9fe8-6538-497a-9f79-288534ef5f2e",
   "metadata": {},
   "outputs": [],
   "source": [
    "df.loc[df['Registration Year '].isnull(),'Registration Year ']=df[df['Registration Year '].isnull()]['vehical_name'].apply(lambda x:x.split(\" \")[0]).values"
   ]
  },
  {
   "cell_type": "code",
   "execution_count": 462,
   "id": "c8d9a4fa-500b-467d-8cdf-ce526388776a",
   "metadata": {},
   "outputs": [
    {
     "data": {
      "text/plain": [
       "Registration Year \n",
       "1    70.921362\n",
       "2    29.078638\n",
       "Name: count, dtype: float64"
      ]
     },
     "execution_count": 462,
     "metadata": {},
     "output_type": "execute_result"
    }
   ],
   "source": [
    "df['Registration Year '].apply(lambda x:len(x.strip().split())).value_counts()*100/df.shape[0]"
   ]
  },
  {
   "cell_type": "code",
   "execution_count": 463,
   "id": "f703f791-cacc-4a6a-8349-ed442c5c0651",
   "metadata": {},
   "outputs": [],
   "source": [
    "# only 30% of the Registration year values contain month , registration month is not very much required and also we can fill it for all \n",
    "# rows so storing only year\n",
    "df['Registration Year ']=df['Registration Year '].apply(lambda x:int(x.strip().split()[-1]))"
   ]
  },
  {
   "cell_type": "code",
   "execution_count": 464,
   "id": "9af65f4b-c56c-414d-82d8-36d1ffff87cd",
   "metadata": {},
   "outputs": [],
   "source": [
    "# company name\n",
    "df['company_name']=df['vehical_name'].apply(lambda x:x.split(\" \")[1])"
   ]
  },
  {
   "cell_type": "code",
   "execution_count": 465,
   "id": "158004e1-0e4e-4e0f-ac2e-a87cbfe0ab01",
   "metadata": {},
   "outputs": [],
   "source": [
    "df['model_detail']=df['vehical_name'].apply(lambda x:' '.join(x.split(\" \")[2:]))"
   ]
  },
  {
   "cell_type": "markdown",
   "id": "2c7859c6-5bda-4b56-8336-09157bf843d8",
   "metadata": {
    "jp-MarkdownHeadingCollapsed": true
   },
   "source": [
    "# Insurance column handling"
   ]
  },
  {
   "cell_type": "code",
   "execution_count": 466,
   "id": "eaf9f874-6196-4a9d-b9ba-cc48b9721394",
   "metadata": {},
   "outputs": [
    {
     "data": {
      "text/plain": [
       "Insurance \n",
       "-                8108\n",
       "Comprehensive    1703\n",
       "Third Party       321\n",
       "Zero Dep           92\n",
       "Name: count, dtype: int64"
      ]
     },
     "execution_count": 466,
     "metadata": {},
     "output_type": "execute_result"
    }
   ],
   "source": [
    "df['Insurance '].value_counts()"
   ]
  },
  {
   "cell_type": "code",
   "execution_count": 467,
   "id": "ed9ffa40-113d-4611-a339-b30528ad9740",
   "metadata": {},
   "outputs": [],
   "source": [
    "df['Insurance ']=np.where(df['Insurance ']==\"-\",'No Insurance',df['Insurance '])"
   ]
  },
  {
   "cell_type": "markdown",
   "id": "b37ceefa-008b-4195-86e3-088f55054808",
   "metadata": {},
   "source": [
    "# Seats coulmn handling"
   ]
  },
  {
   "cell_type": "code",
   "execution_count": 468,
   "id": "1306e419-cca9-435f-b6ad-ef0ec0043808",
   "metadata": {},
   "outputs": [
    {
     "data": {
      "text/plain": [
       "Seats \n",
       "5 Seats     8250\n",
       "7 Seats     1472\n",
       "4 Seats      161\n",
       "6 Seats      155\n",
       "8 Seats      121\n",
       "9 Seats       30\n",
       "2 Seats       12\n",
       "10 Seats      11\n",
       "Name: count, dtype: int64"
      ]
     },
     "execution_count": 468,
     "metadata": {},
     "output_type": "execute_result"
    }
   ],
   "source": [
    "df['Seats '].value_counts()"
   ]
  },
  {
   "cell_type": "code",
   "execution_count": 469,
   "id": "11174b9f-29f8-4bdf-88db-b98ca69a8a6e",
   "metadata": {},
   "outputs": [],
   "source": [
    "# One way to handle null seat values is to fill them with the seat values of other cars that have exact same vehical name but in this case all \n",
    "# those columns where seat is null are unique and also the no of missing rows is only 0.11% which is not significant so i am dropping them\n",
    "df.dropna(subset='Seats ',inplace=True)"
   ]
  },
  {
   "cell_type": "markdown",
   "id": "773edc4f-761d-4ba4-81bd-17a69275d6a1",
   "metadata": {},
   "source": [
    "# Handling kms driven"
   ]
  },
  {
   "cell_type": "code",
   "execution_count": 470,
   "id": "a4192ceb-f67d-4f6e-b0fe-2e5b1381fabc",
   "metadata": {},
   "outputs": [
    {
     "data": {
      "text/plain": [
       "Index(['vehical_name', 'Registration Year ', 'Insurance ', 'Fuel Type ',\n",
       "       'Seats ', 'Kms Driven ', 'RTO ', 'Ownership ', 'Engine Displacement ',\n",
       "       'Transmission ', 'Year of Manufacture ', 'Engine ', 'Power ',\n",
       "       'Transmission .1', 'Drive Type ', 'Mileage ', 'Fuel ',\n",
       "       'new_vehical_price', 'vehical_price', 'other_features', 'company_name',\n",
       "       'model_detail'],\n",
       "      dtype='object')"
      ]
     },
     "execution_count": 470,
     "metadata": {},
     "output_type": "execute_result"
    }
   ],
   "source": [
    "df.columns"
   ]
  },
  {
   "cell_type": "code",
   "execution_count": 471,
   "id": "c54d1a4a-a4f5-4b62-90ed-92a51edf6e06",
   "metadata": {},
   "outputs": [],
   "source": [
    "df['Kms Driven ']=df['Kms Driven '].apply(lambda x:int(x.replace(',','').strip().split(' ')[0]))"
   ]
  },
  {
   "cell_type": "markdown",
   "id": "b7700802-9be4-4854-a854-dd5c2d19c30a",
   "metadata": {},
   "source": [
    "# Handling Engine Displacement"
   ]
  },
  {
   "cell_type": "code",
   "execution_count": 472,
   "id": "b8552736-1366-4ecb-b88d-04c50a82399d",
   "metadata": {},
   "outputs": [],
   "source": [
    "df['Engine Displacement ']=df['Engine Displacement '].fillna(\"-1\")\n",
    "df['Engine Displacement ']=df['Engine Displacement '].apply(lambda x:int(x.strip().split(\" \")[0]))"
   ]
  },
  {
   "cell_type": "code",
   "execution_count": 473,
   "id": "3d1ae0f5-517a-411a-8527-5180aeca2313",
   "metadata": {},
   "outputs": [
    {
     "data": {
      "text/plain": [
       "<Axes: xlabel='Engine Displacement ', ylabel='Density'>"
      ]
     },
     "execution_count": 473,
     "metadata": {},
     "output_type": "execute_result"
    },
    {
     "data": {
      "image/png": "[encoded data removed]",
      "text/plain": [
       "<Figure size 640x480 with 1 Axes>"
      ]
     },
     "metadata": {},
     "output_type": "display_data"
    }
   ],
   "source": [
    "# import warnings\n",
    "# warnings.filterwarnings(\"ignore\")\n",
    "sns.distplot(df['Engine Displacement '],hist=False,color='green')\n",
    "sns.distplot(np.where(df['Engine Displacement ']==-1,df['Engine Displacement '].mean(),df['Engine Displacement ']),hist=False,color='red')"
   ]
  },
  {
   "cell_type": "code",
   "execution_count": 474,
   "id": "8001598d-0cfd-4d3e-b9c0-db61f809ab90",
   "metadata": {},
   "outputs": [],
   "source": [
    "# filling by mean do'nt distrub the distibution so filling null values by mean\n",
    "df['Engine Displacement in cc']=np.where(df['Engine Displacement ']==-1,df['Engine Displacement '].mean(),df['Engine Displacement '])"
   ]
  },
  {
   "cell_type": "markdown",
   "id": "68ebaf84-d264-46de-94ad-ced04ac5635e",
   "metadata": {},
   "source": [
    "# Handling ownership"
   ]
  },
  {
   "cell_type": "code",
   "execution_count": 475,
   "id": "58fc0d62-5882-4c8b-a870-a67e0c93ca4d",
   "metadata": {},
   "outputs": [
    {
     "data": {
      "text/plain": [
       "Ownership \n",
       "First Owner     6589\n",
       "Second Owner    2504\n",
       "Third Owner      781\n",
       "Fourth Owner     224\n",
       "Fifth Owner      111\n",
       "Name: count, dtype: int64"
      ]
     },
     "execution_count": 475,
     "metadata": {},
     "output_type": "execute_result"
    }
   ],
   "source": [
    "df['Ownership '].value_counts()"
   ]
  },
  {
   "cell_type": "code",
   "execution_count": 476,
   "id": "9c29140f-2980-430a-8f70-9666942aafc5",
   "metadata": {},
   "outputs": [
    {
     "data": {
      "text/plain": [
       "np.int64(3)"
      ]
     },
     "execution_count": 476,
     "metadata": {},
     "output_type": "execute_result"
    }
   ],
   "source": [
    "df['Ownership '].isnull().sum()"
   ]
  },
  {
   "cell_type": "code",
   "execution_count": 477,
   "id": "3f2c99be-b927-4f66-80c7-f97ee5997f16",
   "metadata": {},
   "outputs": [],
   "source": [
    "df['Ownership ']=df['Ownership '].fillna('First Owner')"
   ]
  },
  {
   "cell_type": "markdown",
   "id": "47ca1aa7-fcb5-409e-85c2-fcda95db13f2",
   "metadata": {},
   "source": [
    "# Handling Year of Manufacture"
   ]
  },
  {
   "cell_type": "code",
   "execution_count": 478,
   "id": "5b9aadab-3269-4d04-8da2-3143de8af15e",
   "metadata": {},
   "outputs": [
    {
     "data": {
      "text/plain": [
       "np.int64(23)"
      ]
     },
     "execution_count": 478,
     "metadata": {},
     "output_type": "execute_result"
    }
   ],
   "source": [
    "# dropping null values\n",
    "df['Year of Manufacture '].isnull().sum()"
   ]
  },
  {
   "cell_type": "code",
   "execution_count": 479,
   "id": "5d7d4ec5-bbbc-4323-a684-dd08e4fcad95",
   "metadata": {},
   "outputs": [],
   "source": [
    "df.dropna(subset='Year of Manufacture ',inplace=True)\n",
    "df['Year of Manufacture ']=df['Year of Manufacture '].apply(lambda x:int(x))"
   ]
  },
  {
   "cell_type": "markdown",
   "id": "73fc0630-94fc-4b89-af48-935d78e1c386",
   "metadata": {},
   "source": [
    "# Handling Engine"
   ]
  },
  {
   "cell_type": "code",
   "execution_count": 480,
   "id": "ca0600ce-46bf-4de9-8a34-6ad523da0110",
   "metadata": {},
   "outputs": [],
   "source": [
    "# engine ,engine displacement and fuel and fuel type both are same so dropping whole col"
   ]
  },
  {
   "cell_type": "code",
   "execution_count": 481,
   "id": "c596f4e1-966e-4c8d-a3ca-d35f678c7eae",
   "metadata": {},
   "outputs": [],
   "source": [
    "df.drop(columns=['Fuel ','Engine '],axis=1,inplace=True)"
   ]
  },
  {
   "cell_type": "markdown",
   "id": "966de2d6-0491-4008-9663-4479e8b79940",
   "metadata": {},
   "source": [
    "# Handling new_vehical_price column"
   ]
  },
  {
   "cell_type": "code",
   "execution_count": 482,
   "id": "1cf9c123-f94a-4541-894e-72d1b9a81ba3",
   "metadata": {},
   "outputs": [
    {
     "data": {
      "text/plain": [
       "1468     New Car Price ₹6.91 Lakh\n",
       "9072     New Car Price ₹4.73 Lakh\n",
       "6523    New Car Price ₹10.64 Lakh\n",
       "5010     New Car Price ₹5.51 Lakh\n",
       "1505     New Car Price ₹7.03 Lakh\n",
       "Name: new_vehical_price, dtype: object"
      ]
     },
     "execution_count": 482,
     "metadata": {},
     "output_type": "execute_result"
    }
   ],
   "source": [
    "df['new_vehical_price'].sample(5)"
   ]
  },
  {
   "cell_type": "code",
   "execution_count": 483,
   "id": "a9eb1606-fc2c-432c-ada3-03ad6b7b88e6",
   "metadata": {},
   "outputs": [
    {
     "data": {
      "text/plain": [
       "new_vehical_price\n",
       "Lakh     10093\n",
       "Crore       96\n",
       "Name: count, dtype: int64"
      ]
     },
     "execution_count": 483,
     "metadata": {},
     "output_type": "execute_result"
    }
   ],
   "source": [
    "df['new_vehical_price'].apply(lambda x:x.split(' ')[-1]).value_counts()"
   ]
  },
  {
   "cell_type": "code",
   "execution_count": 484,
   "id": "5e0f7899-6607-4c2e-bf42-ca451d21493d",
   "metadata": {},
   "outputs": [],
   "source": [
    "def convert_price(prc):\n",
    "    x=prc.replace('New Car Price','').replace('₹','').strip()\n",
    "    crore=x.split()[-1]=='Crore'\n",
    "    if crore:\n",
    "        x=float(x.replace(\"Crore\",'').strip())*100\n",
    "    else:\n",
    "        x=float(x.replace(\"Lakh\",'').strip())\n",
    "    return round(x,2)"
   ]
  },
  {
   "cell_type": "code",
   "execution_count": 485,
   "id": "3353ae96-0449-477c-9752-de5693e5f7c3",
   "metadata": {},
   "outputs": [],
   "source": [
    "df['new_vehical_price']=df['new_vehical_price'].apply(convert_price)"
   ]
  },
  {
   "cell_type": "code",
   "execution_count": 486,
   "id": "4845f9ce-1eed-4749-a917-7ba83f59bc75",
   "metadata": {},
   "outputs": [],
   "source": [
    "df.rename(columns={\"new_vehical_price\":\"new_vehical_price_in_lakh_inr\"},inplace=True)"
   ]
  },
  {
   "cell_type": "markdown",
   "id": "e852bc6c-e1e9-43f4-bfab-01a26f11c589",
   "metadata": {},
   "source": [
    "# Handling price col"
   ]
  },
  {
   "cell_type": "code",
   "execution_count": 487,
   "id": "ebac4f71-ef08-463d-895b-1aec14ca9cc5",
   "metadata": {},
   "outputs": [
    {
     "data": {
      "text/plain": [
       "9833                       ₹9 Lakh \n",
       "2789       ₹14 Lakh Make Your Offer\n",
       "9947                    ₹9.70 Lakh \n",
       "1695    ₹13.70 Lakh Make Your Offer\n",
       "267      ₹3.25 Lakh Make Your Offer\n",
       "Name: vehical_price, dtype: object"
      ]
     },
     "execution_count": 487,
     "metadata": {},
     "output_type": "execute_result"
    }
   ],
   "source": [
    "df['vehical_price'].sample(5)"
   ]
  },
  {
   "cell_type": "code",
   "execution_count": 488,
   "id": "39c7d658-ca6f-4c3a-97f8-c3cf5f36542b",
   "metadata": {},
   "outputs": [
    {
     "data": {
      "text/plain": [
       "vehical_price\n",
       "Lakh        9928\n",
       "Thousand     228\n",
       "Crore         33\n",
       "Name: count, dtype: int64"
      ]
     },
     "execution_count": 488,
     "metadata": {},
     "output_type": "execute_result"
    }
   ],
   "source": [
    "df['vehical_price'].apply(lambda x:x.split(' ')[1]).value_counts()"
   ]
  },
  {
   "cell_type": "code",
   "execution_count": 489,
   "id": "518f421c-3fe8-4689-9904-6df872183d58",
   "metadata": {},
   "outputs": [
    {
     "data": {
      "text/plain": [
       "vehical_price\n",
       "Lakh        9928\n",
       "Thousand     228\n",
       "Crore         33\n",
       "Name: count, dtype: int64"
      ]
     },
     "execution_count": 489,
     "metadata": {},
     "output_type": "execute_result"
    }
   ],
   "source": [
    "df['vehical_price'].apply(lambda x:x.replace('Make Your Offer','').replace('₹','').strip().split()[1]).value_counts()"
   ]
  },
  {
   "cell_type": "code",
   "execution_count": 490,
   "id": "bddd56db-707e-401b-8caf-328da54a2bd3",
   "metadata": {},
   "outputs": [],
   "source": [
    "def convert_price(prc):\n",
    "    x=prc.replace('Make Your Offer','').replace('₹','').strip()\n",
    "    crore=x.split()[1]=='Crore'\n",
    "    thousand=x.split()[1]=='Thousand'\n",
    "    if crore:\n",
    "        x=float(x.replace(\"Crore\",'').strip())*100\n",
    "    elif thousand:\n",
    "        x=float(x.replace(\"Thousand\",'').strip())/100\n",
    "    else:\n",
    "        x=float(x.replace(\"Lakh\",'').strip())\n",
    "    return round(x,2)"
   ]
  },
  {
   "cell_type": "code",
   "execution_count": 491,
   "id": "c235b4db-6000-41b0-a5d7-e27043b7b255",
   "metadata": {},
   "outputs": [],
   "source": [
    "df['vehical_price']=df['vehical_price'].apply(convert_price)"
   ]
  },
  {
   "cell_type": "code",
   "execution_count": 492,
   "id": "05244352-6f9c-4826-940c-1b97cc081922",
   "metadata": {},
   "outputs": [],
   "source": [
    "df.rename(columns={\"vehical_price\":\"vehical_price_in_lakh_inr\"},inplace=True)"
   ]
  },
  {
   "cell_type": "markdown",
   "id": "2afada0c-83f9-4f3a-90cf-5eecbcc59f49",
   "metadata": {},
   "source": [
    "# Handling Power"
   ]
  },
  {
   "cell_type": "code",
   "execution_count": 493,
   "id": "f6dafc1d-81aa-4c8f-a959-9933fb588abd",
   "metadata": {},
   "outputs": [],
   "source": [
    "df.loc[df['Power '].isnull()==False,'Power ']=df[df['Power '].isnull()==False]['Power '].apply(lambda x:float(x.strip().split(' ')[0]))"
   ]
  },
  {
   "cell_type": "code",
   "execution_count": 494,
   "id": "e8879e0c-f920-4608-8875-60895fc49466",
   "metadata": {},
   "outputs": [],
   "source": [
    "df.rename(columns={\"Power \":\"Power in bhp\"},inplace=True)"
   ]
  },
  {
   "cell_type": "code",
   "execution_count": 495,
   "id": "5428e09b-fa76-4ee2-a26c-a2369d8352df",
   "metadata": {},
   "outputs": [],
   "source": [
    "# i am going to replace null values of power with avergae of vehicales who have same name"
   ]
  },
  {
   "cell_type": "code",
   "execution_count": 496,
   "id": "f3bc8b08-27cd-487b-9f33-29c001019bf0",
   "metadata": {},
   "outputs": [],
   "source": [
    "def handleNull(row):\n",
    "    row['Power in bhp']=df[(df['vehical_name']==row['vehical_name']) & (df['Power in bhp'].isnull()==False)]['Power in bhp'].mean()\n",
    "    return row"
   ]
  },
  {
   "cell_type": "code",
   "execution_count": 497,
   "id": "a2e25d96-1334-4fcd-9ba3-1fee0b5e351e",
   "metadata": {},
   "outputs": [],
   "source": [
    "df.loc[df['Power in bhp'].isnull(),'Power in bhp']=df[df['Power in bhp'].isnull()].apply(handleNull,axis=1)"
   ]
  },
  {
   "cell_type": "code",
   "execution_count": 498,
   "id": "b9d49520-19ef-4a35-8d55-dfe3f2bb0a3d",
   "metadata": {},
   "outputs": [
    {
     "data": {
      "text/plain": [
       "np.float64(13.98567082147414)"
      ]
     },
     "execution_count": 498,
     "metadata": {},
     "output_type": "execute_result"
    }
   ],
   "source": [
    "df['Power in bhp'].isnull().mean()*100"
   ]
  },
  {
   "cell_type": "code",
   "execution_count": 499,
   "id": "9e712edd-d952-40d2-a594-418a9827210d",
   "metadata": {},
   "outputs": [],
   "source": [
    "# now 14% rows have Power as null and are also unique\n",
    "# now i am going to fill them by those whose orignal price is in almost same range(+- 1.5 lakh)"
   ]
  },
  {
   "cell_type": "code",
   "execution_count": 500,
   "id": "0108e8de-b737-4fcf-a8c2-d653e56daaf8",
   "metadata": {},
   "outputs": [],
   "source": [
    "def handleNull2(row):\n",
    "    row['Power in bhp']=df[(df['new_vehical_price_in_lakh_inr']>row['new_vehical_price_in_lakh_inr']-1) & (df['new_vehical_price_in_lakh_inr']<row['new_vehical_price_in_lakh_inr']+1)]['Power in bhp'].mean()\n",
    "    return row"
   ]
  },
  {
   "cell_type": "code",
   "execution_count": 501,
   "id": "1ef5bad6-c6c6-44a3-8fa6-18697499b4be",
   "metadata": {},
   "outputs": [],
   "source": [
    "df.loc[df['Power in bhp'].isnull(),'Power in bhp']=df[df['Power in bhp'].isnull()].apply(handleNull2,axis=1)"
   ]
  },
  {
   "cell_type": "code",
   "execution_count": 502,
   "id": "16ad2caf-5943-4517-af22-c14968165932",
   "metadata": {},
   "outputs": [
    {
     "data": {
      "text/plain": [
       "np.float64(0.1177740700755717)"
      ]
     },
     "execution_count": 502,
     "metadata": {},
     "output_type": "execute_result"
    }
   ],
   "source": [
    "df['Power in bhp'].isnull().mean()*100"
   ]
  },
  {
   "cell_type": "code",
   "execution_count": 503,
   "id": "7a666ab9-5d74-4af5-a8f0-fa0d745e3f80",
   "metadata": {},
   "outputs": [],
   "source": [
    "# repeating same logic but now range is +-4lakh"
   ]
  },
  {
   "cell_type": "code",
   "execution_count": 504,
   "id": "722bfbd3-2371-40f9-8ac9-312b4900809f",
   "metadata": {},
   "outputs": [],
   "source": [
    "def handleNull3(row):\n",
    "    row['Power in bhp']=df[(df['new_vehical_price_in_lakh_inr']>row['new_vehical_price_in_lakh_inr']-4) & (df['new_vehical_price_in_lakh_inr']<row['new_vehical_price_in_lakh_inr']+4)]['Power in bhp'].mean()\n",
    "    return row"
   ]
  },
  {
   "cell_type": "code",
   "execution_count": 505,
   "id": "1160b54a-89ae-47a8-a9f9-085a110cb90a",
   "metadata": {},
   "outputs": [
    {
     "data": {
      "text/plain": [
       "np.int64(2)"
      ]
     },
     "execution_count": 505,
     "metadata": {},
     "output_type": "execute_result"
    }
   ],
   "source": [
    "df[df['Power in bhp'].isnull()].apply(handleNull3,axis=1)['Power in bhp'].isnull().sum()"
   ]
  },
  {
   "cell_type": "code",
   "execution_count": 506,
   "id": "4f5199cd-7327-4fa0-b07e-f258c40c4e4e",
   "metadata": {},
   "outputs": [],
   "source": [
    "#dropping last 3 values\n",
    "df.dropna(subset=['Power in bhp'],inplace=True)"
   ]
  },
  {
   "cell_type": "markdown",
   "id": "ee69ae2d-edd1-42ea-9796-680f283b937e",
   "metadata": {},
   "source": [
    "# Handling drive type"
   ]
  },
  {
   "cell_type": "code",
   "execution_count": 507,
   "id": "3762ae67-c897-497b-93c5-3c359bd0ef7f",
   "metadata": {},
   "outputs": [],
   "source": [
    "# almost 80% data is missing so we can't fill it using some stats and then expect that it will give good results so dopping this col\n",
    "df.drop(columns=['Drive Type '],axis=1,inplace=True)"
   ]
  },
  {
   "cell_type": "markdown",
   "id": "5187f486-281b-4b2b-b2a3-26e3a7163d4c",
   "metadata": {},
   "source": [
    "# Handling Mileage"
   ]
  },
  {
   "cell_type": "code",
   "execution_count": 508,
   "id": "d49da30e-08ea-4274-8b77-a53010e7ca44",
   "metadata": {},
   "outputs": [
    {
     "data": {
      "text/plain": [
       "Mileage \n",
       "kmpl     6519\n",
       "km/kg     276\n",
       "Name: count, dtype: int64"
      ]
     },
     "execution_count": 508,
     "metadata": {},
     "output_type": "execute_result"
    }
   ],
   "source": [
    "df[df['Mileage '].isnull()==False]['Mileage '].apply(lambda x:x.strip().split()[-1]).value_counts()"
   ]
  },
  {
   "cell_type": "code",
   "execution_count": 509,
   "id": "cc8f1462-3738-495a-b3d2-c0b364c752fe",
   "metadata": {},
   "outputs": [],
   "source": [
    "def handle_mil(mil):\n",
    "    try:\n",
    "        return float(mil.strip().split()[0])\n",
    "    except:\n",
    "        return mil"
   ]
  },
  {
   "cell_type": "code",
   "execution_count": 510,
   "id": "7ca41063-1a7c-4103-a67c-a3c91f4e6360",
   "metadata": {},
   "outputs": [],
   "source": [
    "df['Mileage ']=df['Mileage '].apply(handle_mil)"
   ]
  },
  {
   "cell_type": "code",
   "execution_count": 511,
   "id": "fbc94c63-0328-42d9-acce-7c7990072ab5",
   "metadata": {},
   "outputs": [],
   "source": [
    "df.rename(columns={\"Mileage \":\"Mileage in kmpl or km/kg\"},inplace=True)"
   ]
  },
  {
   "cell_type": "markdown",
   "id": "5f60cc4e-06bb-4459-a330-eb97a81ae9be",
   "metadata": {},
   "source": [
    "__*mileage of cars decrease overtime ,it also depend on the price of car and it also depends on the maintainence of the car. so one way to fill null values is to fill them with the average of cars having appraox same age,same fuel type,same vehical model,of approximately same technology(like registration year depict wich time's tech is used in it)*__"
   ]
  },
  {
   "cell_type": "markdown",
   "id": "e99641a0-f30e-4cce-ab26-d3cf63a27298",
   "metadata": {},
   "source": [
    "__*Testing above hypothesis for known values*__"
   ]
  },
  {
   "cell_type": "code",
   "execution_count": 512,
   "id": "bb4123a8-d9e1-425e-a747-4a9be636df3d",
   "metadata": {},
   "outputs": [],
   "source": [
    "df_org=df.copy()"
   ]
  },
  {
   "cell_type": "code",
   "execution_count": 513,
   "id": "77c45da2-a508-495c-a3e8-8fc3641e5be4",
   "metadata": {},
   "outputs": [],
   "source": [
    "def handleNull_mileage(row):\n",
    "    row['Mileage in kmpl or km/kg']=df[(df['Fuel Type ']==row['Fuel Type '])\n",
    "        &(df['vehical_name']==row['vehical_name']) & \n",
    "        (df['Mileage in kmpl or km/kg'].isnull()==False) &\n",
    "        (df['Registration Year ']>row['Registration Year ']-5) \n",
    "        & (df['Registration Year ']<row['Registration Year ']+5) \n",
    "        &(df['Year of Manufacture ']<row['Year of Manufacture ']+2)\n",
    "        & (df['Year of Manufacture ']>row['Year of Manufacture ']-2)]['Mileage in kmpl or km/kg'].mean()\n",
    "    return row"
   ]
  },
  {
   "cell_type": "code",
   "execution_count": 514,
   "id": "376f49e1-6e1f-4547-bfe1-51d224eecac8",
   "metadata": {},
   "outputs": [
    {
     "name": "stderr",
     "output_type": "stream",
     "text": [
      "100%|█████████████████████████████████████████████████████████████████████████████████████████████████████████████████| 6795/6795 [00:41<00:00, 165.11it/s]\n"
     ]
    }
   ],
   "source": [
    "mod_vals=df[df['Mileage in kmpl or km/kg'].isnull()==False].progress_apply(handleNull_mileage,axis=1)['Mileage in kmpl or km/kg']"
   ]
  },
  {
   "cell_type": "code",
   "execution_count": 515,
   "id": "9189186f-f805-4eef-a773-7df0bf7397d3",
   "metadata": {},
   "outputs": [],
   "source": [
    "hyp=pd.DataFrame(np.concatenate([df[df['Mileage in kmpl or km/kg'].isnull()==False]['Mileage in kmpl or km/kg'].values.reshape(len(mod_vals),1),mod_vals.values.reshape(len(mod_vals),1)],axis=1),columns=['old_values','new_values'])"
   ]
  },
  {
   "cell_type": "code",
   "execution_count": 516,
   "id": "9b885ebc-59f1-4a33-9d99-0558d05e0005",
   "metadata": {},
   "outputs": [
    {
     "data": {
      "text/html": [
       "<div>\n",
       "<style scoped>\n",
       "    .dataframe tbody tr th:only-of-type {\n",
       "        vertical-align: middle;\n",
       "    }\n",
       "\n",
       "    .dataframe tbody tr th {\n",
       "        vertical-align: top;\n",
       "    }\n",
       "\n",
       "    .dataframe thead th {\n",
       "        text-align: right;\n",
       "    }\n",
       "</style>\n",
       "<table border=\"1\" class=\"dataframe\">\n",
       "  <thead>\n",
       "    <tr style=\"text-align: right;\">\n",
       "      <th></th>\n",
       "      <th>old_values</th>\n",
       "      <th>new_values</th>\n",
       "    </tr>\n",
       "  </thead>\n",
       "  <tbody>\n",
       "    <tr>\n",
       "      <th>5807</th>\n",
       "      <td>25.10</td>\n",
       "      <td>25.100000</td>\n",
       "    </tr>\n",
       "    <tr>\n",
       "      <th>3607</th>\n",
       "      <td>22.74</td>\n",
       "      <td>22.740000</td>\n",
       "    </tr>\n",
       "    <tr>\n",
       "      <th>4049</th>\n",
       "      <td>22.90</td>\n",
       "      <td>22.900000</td>\n",
       "    </tr>\n",
       "    <tr>\n",
       "      <th>5089</th>\n",
       "      <td>18.90</td>\n",
       "      <td>18.900000</td>\n",
       "    </tr>\n",
       "    <tr>\n",
       "      <th>1257</th>\n",
       "      <td>20.70</td>\n",
       "      <td>19.157143</td>\n",
       "    </tr>\n",
       "  </tbody>\n",
       "</table>\n",
       "</div>"
      ],
      "text/plain": [
       "      old_values  new_values\n",
       "5807       25.10   25.100000\n",
       "3607       22.74   22.740000\n",
       "4049       22.90   22.900000\n",
       "5089       18.90   18.900000\n",
       "1257       20.70   19.157143"
      ]
     },
     "execution_count": 516,
     "metadata": {},
     "output_type": "execute_result"
    }
   ],
   "source": [
    "hyp[hyp['old_values']!=hyp['new_values']].sample(5)"
   ]
  },
  {
   "cell_type": "markdown",
   "id": "2d1c481a-220c-4875-b7ed-43bd4fac52bd",
   "metadata": {},
   "source": [
    "__*using above results we can say that hypothesis work good enogh*__"
   ]
  },
  {
   "cell_type": "code",
   "execution_count": 517,
   "id": "2a574169-8d75-4318-8b69-2b6191698e45",
   "metadata": {},
   "outputs": [
    {
     "name": "stderr",
     "output_type": "stream",
     "text": [
      "100%|█████████████████████████████████████████████████████████████████████████████████████████████████████████████████| 3382/3382 [00:20<00:00, 168.80it/s]\n"
     ]
    }
   ],
   "source": [
    "df.loc[df['Mileage in kmpl or km/kg'].isnull(),['Mileage in kmpl or km/kg']]=df[df['Mileage in kmpl or km/kg'].isnull()].progress_apply(handleNull_mileage,axis=1)['Mileage in kmpl or km/kg']"
   ]
  },
  {
   "cell_type": "code",
   "execution_count": 518,
   "id": "bc8b0c8e-2f53-4948-836a-92b0ca3233a5",
   "metadata": {},
   "outputs": [
    {
     "data": {
      "text/plain": [
       "np.float64(17.30372408371819)"
      ]
     },
     "execution_count": 518,
     "metadata": {},
     "output_type": "execute_result"
    }
   ],
   "source": [
    "df['Mileage in kmpl or km/kg'].isnull().mean()*100"
   ]
  },
  {
   "cell_type": "code",
   "execution_count": 519,
   "id": "ca49dde0-464b-41c8-8834-4c039eb13f67",
   "metadata": {},
   "outputs": [],
   "source": [
    "df_org2=df.copy()"
   ]
  },
  {
   "cell_type": "markdown",
   "id": "b89f1d00-45c9-4dbd-82a5-56b7a3c994ad",
   "metadata": {},
   "source": [
    "__*initially 33% values were missing now it is reduced to 17%*__\n",
    "__*for remaining i am going to replace them by the mean of values of same new_price range and same asking price range and same maifaturing year*__\n",
    "__*now the below function will apply the above statement and also increase the range until null values reaches below a given threshold*__"
   ]
  },
  {
   "cell_type": "code",
   "execution_count": 520,
   "id": "1104a5a8-3714-492c-88b7-911fe08d16f8",
   "metadata": {},
   "outputs": [],
   "source": [
    "df=df_org2.copy()"
   ]
  },
  {
   "cell_type": "code",
   "execution_count": 521,
   "id": "7046e6f4-d34f-4c37-bcc9-33244343b361",
   "metadata": {},
   "outputs": [],
   "source": [
    "def handleNull_mileage2(row):\n",
    "    global i\n",
    "    row['Mileage in kmpl or km/kg']=df[(df['Fuel Type ']==row['Fuel Type ']) & \n",
    "        (df['Mileage in kmpl or km/kg'].isnull()==False) &\n",
    "        (df['Registration Year ']>row['Registration Year ']-3*i) & \n",
    "        (df['Registration Year ']<row['Registration Year ']+3*i) &\n",
    "        (df['Year of Manufacture ']<row['Year of Manufacture ']+2*i) &\n",
    "        (df['Year of Manufacture ']>row['Year of Manufacture ']-2*i) &\n",
    "        (df['new_vehical_price_in_lakh_inr']>row['new_vehical_price_in_lakh_inr']-1.5*i) &\n",
    "        (df['new_vehical_price_in_lakh_inr']<row['new_vehical_price_in_lakh_inr']+1.5*i)&\n",
    "        (df['vehical_price_in_lakh_inr']<row['vehical_price_in_lakh_inr']+0.25*i)&\n",
    "        (df['vehical_price_in_lakh_inr']>row['vehical_price_in_lakh_inr']-0.25*i)\n",
    "        ]['Mileage in kmpl or km/kg'].mean()\n",
    "    return row"
   ]
  },
  {
   "cell_type": "code",
   "execution_count": 522,
   "id": "4eebea0c-f294-4eb2-8b33-929dcf034e31",
   "metadata": {},
   "outputs": [],
   "source": [
    "i=1 #defining i globally\n",
    "def fill_mileage(no_of_iter):\n",
    "    global i\n",
    "    n=df['Mileage in kmpl or km/kg'].isnull().mean()*100\n",
    "    count=1\n",
    "    while(count<no_of_iter+1):\n",
    "        print(\"interation no \",count,' % of null values',n)\n",
    "        df.loc[df['Mileage in kmpl or km/kg'].isnull(),['Mileage in kmpl or km/kg']]=df[df['Mileage in kmpl or km/kg'].isnull()].progress_apply(handleNull_mileage2,axis=1)['Mileage in kmpl or km/kg']\n",
    "        i+=1\n",
    "        count+=1\n",
    "        n=df['Mileage in kmpl or km/kg'].isnull().mean()*100"
   ]
  },
  {
   "cell_type": "code",
   "execution_count": 523,
   "id": "84414886-7511-45bf-b14c-32ef39bacbc5",
   "metadata": {
    "scrolled": true
   },
   "outputs": [
    {
     "name": "stdout",
     "output_type": "stream",
     "text": [
      "interation no  1  % of null values 17.30372408371819\n"
     ]
    },
    {
     "name": "stderr",
     "output_type": "stream",
     "text": [
      "100%|█████████████████████████████████████████████████████████████████████████████████████████████████████████████████| 1761/1761 [00:09<00:00, 189.45it/s]\n"
     ]
    },
    {
     "name": "stdout",
     "output_type": "stream",
     "text": [
      "interation no  2  % of null values 6.730863712292424\n"
     ]
    },
    {
     "name": "stderr",
     "output_type": "stream",
     "text": [
      "100%|███████████████████████████████████████████████████████████████████████████████████████████████████████████████████| 685/685 [00:03<00:00, 196.67it/s]\n"
     ]
    },
    {
     "name": "stdout",
     "output_type": "stream",
     "text": [
      "interation no  3  % of null values 4.539648226392846\n"
     ]
    },
    {
     "name": "stderr",
     "output_type": "stream",
     "text": [
      "100%|███████████████████████████████████████████████████████████████████████████████████████████████████████████████████| 462/462 [00:02<00:00, 201.37it/s]\n"
     ]
    },
    {
     "name": "stdout",
     "output_type": "stream",
     "text": [
      "interation no  4  % of null values 3.763388031836494\n"
     ]
    },
    {
     "name": "stderr",
     "output_type": "stream",
     "text": [
      "100%|███████████████████████████████████████████████████████████████████████████████████████████████████████████████████| 383/383 [00:01<00:00, 192.97it/s]\n"
     ]
    },
    {
     "name": "stdout",
     "output_type": "stream",
     "text": [
      "interation no  5  % of null values 3.222953719170679\n"
     ]
    },
    {
     "name": "stderr",
     "output_type": "stream",
     "text": [
      "100%|███████████████████████████████████████████████████████████████████████████████████████████████████████████████████| 328/328 [00:01<00:00, 204.91it/s]\n"
     ]
    },
    {
     "name": "stdout",
     "output_type": "stream",
     "text": [
      "interation no  6  % of null values 2.7021715633290757\n"
     ]
    },
    {
     "name": "stderr",
     "output_type": "stream",
     "text": [
      "100%|███████████████████████████████████████████████████████████████████████████████████████████████████████████████████| 275/275 [00:01<00:00, 207.03it/s]\n"
     ]
    },
    {
     "name": "stdout",
     "output_type": "stream",
     "text": [
      "interation no  7  % of null values 2.3287805836690576\n"
     ]
    },
    {
     "name": "stderr",
     "output_type": "stream",
     "text": [
      "100%|███████████████████████████████████████████████████████████████████████████████████████████████████████████████████| 237/237 [00:01<00:00, 210.66it/s]\n"
     ]
    },
    {
     "name": "stdout",
     "output_type": "stream",
     "text": [
      "interation no  8  % of null values 2.0733025449543088\n"
     ]
    },
    {
     "name": "stderr",
     "output_type": "stream",
     "text": [
      "100%|███████████████████████████████████████████████████████████████████████████████████████████████████████████████████| 211/211 [00:01<00:00, 203.44it/s]\n"
     ]
    },
    {
     "name": "stdout",
     "output_type": "stream",
     "text": [
      "interation no  9  % of null values 1.9357374471848285\n"
     ]
    },
    {
     "name": "stderr",
     "output_type": "stream",
     "text": [
      "100%|███████████████████████████████████████████████████████████████████████████████████████████████████████████████████| 197/197 [00:00<00:00, 200.22it/s]\n"
     ]
    },
    {
     "name": "stdout",
     "output_type": "stream",
     "text": [
      "interation no  10  % of null values 1.7588680357669255\n"
     ]
    },
    {
     "name": "stderr",
     "output_type": "stream",
     "text": [
      "100%|███████████████████████████████████████████████████████████████████████████████████████████████████████████████████| 179/179 [00:00<00:00, 198.81it/s]\n"
     ]
    }
   ],
   "source": [
    "fill_mileage(10)"
   ]
  },
  {
   "cell_type": "markdown",
   "id": "a7f8df5d-29a1-4057-b0f3-eda2009db18b",
   "metadata": {},
   "source": [
    "__*dropiing left values*__"
   ]
  },
  {
   "cell_type": "code",
   "execution_count": 524,
   "id": "bb0a02cc-8041-4ebc-a77e-15b134791882",
   "metadata": {},
   "outputs": [],
   "source": [
    "df.dropna(subset=['Mileage in kmpl or km/kg'],inplace=True)"
   ]
  },
  {
   "cell_type": "markdown",
   "id": "55cf8e6c-c43a-424e-8805-fc58448517a8",
   "metadata": {},
   "source": [
    "# Handling rto"
   ]
  },
  {
   "cell_type": "code",
   "execution_count": 532,
   "id": "bb5a43b3-3773-4d97-b088-10baa9b1cf7c",
   "metadata": {},
   "outputs": [],
   "source": [
    "df['RTO ']=df['RTO '].fillna('Others')"
   ]
  },
  {
   "cell_type": "code",
   "execution_count": 534,
   "id": "483e6f21-e9a0-4809-a56c-bd7312021ba2",
   "metadata": {},
   "outputs": [],
   "source": [
    "df.to_csv(\"../data/processed/preprocessed.csv\",index=False)"
   ]
  }
 ],
 "metadata": {
  "kernelspec": {
   "display_name": "Python (ml)",
   "language": "python",
   "name": "ml"
  },
  "language_info": {
   "codemirror_mode": {
    "name": "ipython",
    "version": 3
   },
   "file_extension": ".py",
   "mimetype": "text/x-python",
   "name": "python",
   "nbconvert_exporter": "python",
   "pygments_lexer": "ipython3",
   "version": "3.13.3"
  }
 },
 "nbformat": 4,
 "nbformat_minor": 5
}
